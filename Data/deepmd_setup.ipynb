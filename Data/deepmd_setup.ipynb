{
 "cells": [
  {
   "cell_type": "code",
   "execution_count": 1,
   "metadata": {},
   "outputs": [],
   "source": [
    "import dpdata\n",
    "import matplotlib.pyplot as plt\n",
    "import numpy\n",
    "import json\n",
    "from glob import glob"
   ]
  },
  {
   "cell_type": "markdown",
   "metadata": {},
   "source": [
    "# Data Conversion\n",
    "XML contains all information from all steps (nframes). Make sure this is acceptable for the entered data\n",
    "\n",
    "Converts all available XML files to deepmd/raw format"
   ]
  },
  {
   "cell_type": "code",
   "execution_count": 5,
   "metadata": {},
   "outputs": [],
   "source": [
    "fs = glob('./*/vasprun.xml')\n",
    "ms = dpdata.MultiSystems()\n",
    "for f in fs:\n",
    "    try:\n",
    "        ls = dpdata.LabeledSystem(f, fmt='vasp/xml')\n",
    "    except:\n",
    "        print(f)\n",
    "    if len(ls)>0:\n",
    "        ms.append(ls)\n",
    "        \n",
    "ms.to_deepmd_raw('deepmd_raw_dir')"
   ]
  },
  {
   "cell_type": "markdown",
   "metadata": {},
   "source": [
    "Coverts one XML file to deepmd/raw format"
   ]
  },
  {
   "cell_type": "code",
   "execution_count": 11,
   "metadata": {},
   "outputs": [],
   "source": [
    "ls = dpdata.LabeledSystem('./LLZO_2/vasprun.xml', fmt='vasp/xml')\n",
    "ls.to('deepmd/npy', 'npy_LLZO_2')"
   ]
  },
  {
   "cell_type": "code",
   "execution_count": 9,
   "metadata": {},
   "outputs": [
    {
     "data": {
      "text/plain": [
       "Data Summary\n",
       "Labeled System\n",
       "-------------------\n",
       "Frame Numbers      : 104\n",
       "Atom Numbers       : 1536\n",
       "Including Virials  : Yes\n",
       "Element List       :\n",
       "-------------------\n",
       "La  Li  O  Zr\n",
       "192  448  768  128"
      ]
     },
     "execution_count": 9,
     "metadata": {},
     "output_type": "execute_result"
    }
   ],
   "source": [
    "ls"
   ]
  },
  {
   "cell_type": "raw",
   "metadata": {},
   "source": [
    "# Model Preparation\n",
    "#### 5 Options for Descriptors\n",
    "1. se_e2_a                  -> Angular and radial, distance embedding\n",
    "2. se_e2_r                  -> Radial, distance embedding\n",
    "3. se_e3                    -> Angular and radial, angle embedding\n",
    "4. loc_frame                -> Local coordinate frame\n",
    "5. hybrid                   -> Hybrid of above descriptors\n",
    "\n",
    "#### 3 Options for Fitting\n",
    "1. ener                     -> Energy (+Force, Virial)\n",
    "2. dipole                   -> Dipole\n",
    "3. polar                    -> Polarizability\n",
    "\n",
    "### DESCRIPTOR\n",
    "- rcut, rcut_smth, sel      -> Parameters for neighbor searching\n",
    "- neuron                    -> Dimensions of hidden layers. If higher layer is 2x lower layer, ResNet is built\n",
    "- type_one_side             -> Whether to consider which type the centric atoms are\n",
    "- axis_neuron               -> Size of submatrix (a process for preserving symmetries)\n",
    "- resnet_dt                 -> Defines whether timestep is used in ResNet\n",
    "- seed                      -> Random seed\n",
    "\n",
    "### FITTING NET (ENERGY)\n",
    "- neuron                    -> Dimensions of hidden layers. If high layer equal to lower layer, ResNet is built\n",
    "- resnet_dt                 -> Defines whether timestep is used in ResNet\n",
    "- seed                      -> Random seed\n",
    "\n",
    "### LOSS (ENERGY)\n",
    "- start_pref_e              -> Start of prefactor for energy\n",
    "- limit_pref_e              -> Limit of prefactor for energy\n",
    "- start_pref_f              -> Start of prefactor for force\n",
    "- limit_pref_f              -> Limit of prefactor for force\n",
    "- start_pref_v              -> Start of prefactor for virial\n",
    "- limit_pref_v              -> Limit of prefactor for virial\n",
    "\n",
    "Run on klone with deepmd13 conda environment\n",
    "Always use GPU version, your laptop has a kickass GPU"
   ]
  },
  {
   "cell_type": "code",
   "execution_count": 4,
   "metadata": {},
   "outputs": [],
   "source": [
    "import json\n",
    "data = {\n",
    "    \"model\": {\n",
    "        \"type_map\": [\"La\", \"Li\", \"O\", \"Zr\"],\n",
    "        \"descriptor\": {\n",
    "            \"type\":           \"se_e2_a\",\n",
    "            \"rcut_smth\":      0.50,\n",
    "            \"rcut\":           6.00,\n",
    "            \"sel\":            [46, 92, 46, 46],\n",
    "            \"neuron\":         [240, 120, 60, 30, 10],\n",
    "            \"type_one_side\":  False,\n",
    "#             \"axis_neuron\":    16,\n",
    "            \"resnet_dt\":      False,\n",
    "            \"seed\":           1\n",
    "        },\n",
    "        \"fitting_net\": {\n",
    "            \"neuron\":         [240, 240, 240],\n",
    "            \"resnet_dt\":      True,\n",
    "            \"seed\":           1\n",
    "        },\n",
    "    }, \n",
    "    \n",
    "    \"learning_rate\": {\n",
    "        \"type\":           \"exp\",\n",
    "        \"start_lr\":       0.001,\n",
    "        \"stop_lr\":        3.51e-8,\n",
    "        \"decay_steps\":    5000\n",
    "    }, \n",
    "    \n",
    "    \"loss\": {\n",
    "        \"type\":           \"ener\",\n",
    "        \"start_pref_e\":   0.02,\n",
    "        \"limit_pref_e\":   1,\n",
    "        \"start_pref_f\":   1000,\n",
    "        \"limit_pref_f\":   1,\n",
    "        \"start_pref_v\":   100,\n",
    "        \"limit_pref_v\":   1\n",
    "    }, \n",
    "    \n",
    "    \"training\": {\n",
    "        \"training_data\": {\n",
    "            \"systems\":    [\"../data/npy_LLZO_1\"],\n",
    "            \"batch_size\": \"auto\"\n",
    "        },\n",
    "        \"validation_data\": {\n",
    "            \"systems\":    [\"../data/npy_LLZO_2\"],\n",
    "            \"batch_size\": 1,\n",
    "            \"numb_btch\":  3\n",
    "        },\n",
    "        \"numb_steps\":     1000000,\n",
    "        \"seed\":           1,\n",
    "        \"disp_file\":      \"lcurve.out\",\n",
    "        \"disp_freq\":      100,\n",
    "        \"save_freq\":      1000\n",
    "    }\n",
    "}"
   ]
  },
  {
   "cell_type": "code",
   "execution_count": 5,
   "metadata": {},
   "outputs": [],
   "source": [
    "with open('input.json', 'w') as f:\n",
    "    json.dump(data, f)"
   ]
  },
  {
   "cell_type": "code",
   "execution_count": null,
   "metadata": {},
   "outputs": [],
   "source": []
  }
 ],
 "metadata": {
  "kernelspec": {
   "display_name": "deep-md",
   "language": "python",
   "name": "deep-md"
  },
  "language_info": {
   "codemirror_mode": {
    "name": "ipython",
    "version": 3
   },
   "file_extension": ".py",
   "mimetype": "text/x-python",
   "name": "python",
   "nbconvert_exporter": "python",
   "pygments_lexer": "ipython3",
   "version": "3.9.7"
  }
 },
 "nbformat": 4,
 "nbformat_minor": 4
}
