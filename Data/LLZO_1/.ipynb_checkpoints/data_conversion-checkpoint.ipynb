{
 "cells": [
  {
   "cell_type": "code",
   "execution_count": 9,
   "metadata": {},
   "outputs": [],
   "source": [
    "import dpdata\n",
    "import matplotlib.pyplot as plt\n",
    "import numpy"
   ]
  },
  {
   "cell_type": "code",
   "execution_count": 15,
   "metadata": {},
   "outputs": [],
   "source": [
    "import json"
   ]
  },
  {
   "cell_type": "markdown",
   "metadata": {},
   "source": [
    "XML contains all information from all steps (nframes). Make sure this is acceptable for the entered data"
   ]
  },
  {
   "cell_type": "code",
   "execution_count": 5,
   "metadata": {},
   "outputs": [],
   "source": [
    "vasp_xml = dpdata.LabeledSystem('vasprun.xml', fmt='vasp/xml')"
   ]
  },
  {
   "cell_type": "markdown",
   "metadata": {},
   "source": [
    "Convert to raw format for deepmd"
   ]
  },
  {
   "cell_type": "code",
   "execution_count": 14,
   "metadata": {},
   "outputs": [],
   "source": [
    "vasp_xml.to('deepmd/raw', 'dpmd_raw')"
   ]
  },
  {
   "cell_type": "code",
   "execution_count": 20,
   "metadata": {},
   "outputs": [
    {
     "data": {
      "text/plain": [
       "['La', 'Li', 'O', 'Zr']"
      ]
     },
     "execution_count": 20,
     "metadata": {},
     "output_type": "execute_result"
    }
   ],
   "source": [
    "vasp_xml['atom_names']"
   ]
  },
  {
   "cell_type": "markdown",
   "metadata": {},
   "source": [
    "Investigate all of the options available in https://docs.deepmodeling.org/projects/deepmd/en/latest/model/index.html"
   ]
  },
  {
   "cell_type": "code",
   "execution_count": 25,
   "metadata": {},
   "outputs": [],
   "source": [
    "data = {}\n",
    "data['model'] = {\n",
    "    \"type_map\": vasp_xml['atom_names'],\n",
    "    \"descriptor\": {\n",
    "        \"type\":           \"se_e2_a\",\n",
    "        \"rcut_smth\":      0.50,\n",
    "        \"rcut\":           6.00,\n",
    "        \"sel\":            [46, 92],\n",
    "        \"neuron\":         [25, 50, 100],\n",
    "        \"type_one_side\":  True,\n",
    "        \"axis_neuron\":    16,\n",
    "        \"resnet_dt\":      False,\n",
    "        \"seed\":           1\n",
    "    },\n",
    "    \"fitting_net\": {\n",
    "        \"neruon\":         [25, 50, 100],\n",
    "        \"resnet_dt\":      True,\n",
    "        \"seed\":           1\n",
    "    },\n",
    "    \"loss\": {\n",
    "        \"start_pref_e\":   0.02,\n",
    "        \"limit_pref_e\":   1,\n",
    "        \"start_pref_f\":   1000,\n",
    "        \"limit_pref_f\":   1,\n",
    "        \"start_pref_v\":   0,\n",
    "        \"limit_pref_v\":   0\n",
    "    }\n",
    "}"
   ]
  },
  {
   "cell_type": "code",
   "execution_count": 26,
   "metadata": {},
   "outputs": [
    {
     "data": {
      "text/plain": [
       "{'model': {'type_map': ['La', 'Li', 'O', 'Zr'],\n",
       "  'descriptor': {'type': 'se_e2_a',\n",
       "   'rcut_smth': 0.5,\n",
       "   'rcut': 6.0,\n",
       "   'sel': [46, 92],\n",
       "   'neuron': [25, 50, 100],\n",
       "   'type_one_side': True,\n",
       "   'axis_neuron': 16,\n",
       "   'resnet_dt': False,\n",
       "   'seed': 1},\n",
       "  'fitting_net': {'neruon': [25, 50, 100], 'resnet_dt': True, 'seed': 1},\n",
       "  'loss': {'start_pref_e': 0.02,\n",
       "   'limit_pref_e': 1,\n",
       "   'start_pref_f': 1000,\n",
       "   'limit_pref_f': 1,\n",
       "   'start_pref_v': 0,\n",
       "   'limit_pref_v': 0}}}"
      ]
     },
     "execution_count": 26,
     "metadata": {},
     "output_type": "execute_result"
    }
   ],
   "source": [
    "data"
   ]
  },
  {
   "cell_type": "code",
   "execution_count": 27,
   "metadata": {},
   "outputs": [],
   "source": [
    "with open('input.json', 'w') as f:\n",
    "    json.dump(data, f)"
   ]
  },
  {
   "cell_type": "code",
   "execution_count": null,
   "metadata": {},
   "outputs": [],
   "source": []
  }
 ],
 "metadata": {
  "kernelspec": {
   "display_name": "deep-md",
   "language": "python",
   "name": "deep-md"
  },
  "language_info": {
   "codemirror_mode": {
    "name": "ipython",
    "version": 3
   },
   "file_extension": ".py",
   "mimetype": "text/x-python",
   "name": "python",
   "nbconvert_exporter": "python",
   "pygments_lexer": "ipython3",
   "version": "3.9.7"
  }
 },
 "nbformat": 4,
 "nbformat_minor": 4
}
